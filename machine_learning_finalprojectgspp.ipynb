{
  "nbformat": 4,
  "nbformat_minor": 0,
  "metadata": {
    "colab": {
      "provenance": [],
      "include_colab_link": true
    },
    "kernelspec": {
      "name": "python3",
      "display_name": "Python 3"
    },
    "language_info": {
      "name": "python"
    }
  },
  "cells": [
    {
      "cell_type": "markdown",
      "metadata": {
        "id": "view-in-github",
        "colab_type": "text"
      },
      "source": [
        "<a href=\"https://colab.research.google.com/github/InjamamChy/stock-prediction/blob/stckpred/machine_learning_finalprojectgspp.ipynb\" target=\"_parent\"><img src=\"https://colab.research.google.com/assets/colab-badge.svg\" alt=\"Open In Colab\"/></a>"
      ]
    },
    {
      "cell_type": "markdown",
      "source": [
        "# Step 1: Initialization"
      ],
      "metadata": {
        "id": "hQgYBizNcV2l"
      }
    },
    {
      "cell_type": "code",
      "source": [
        "import numpy as np\n",
        "import pandas as pd\n",
        "import matplotlib.pyplot as plt"
      ],
      "metadata": {
        "id": "kcnFH9excYKn"
      },
      "execution_count": 6,
      "outputs": []
    },
    {
      "cell_type": "code",
      "source": [
        "from sklearn.preprocessing import MinMaxScaler\n",
        "from keras.models import Sequential\n",
        "from keras.layers import Dense, LSTM, Dropout"
      ],
      "metadata": {
        "id": "ki-uKHkccaEi"
      },
      "execution_count": 5,
      "outputs": []
    },
    {
      "cell_type": "markdown",
      "source": [
        "# Step 2: Data Preprocessing"
      ],
      "metadata": {
        "id": "RIp_sH8zcdP8"
      }
    },
    {
      "cell_type": "code",
      "source": [
        "# Load the data\n",
        "dataset = pd.read_csv('/content/Ftrain.csv')"
      ],
      "metadata": {
        "id": "lVl9UK4rcg4k"
      },
      "execution_count": 9,
      "outputs": []
    },
    {
      "cell_type": "code",
      "source": [
        "dataset.head()"
      ],
      "metadata": {
        "colab": {
          "base_uri": "https://localhost:8080/",
          "height": 206
        },
        "id": "IxaugUCUcbxp",
        "outputId": "0535712c-44db-448a-f5cb-51611f3de952"
      },
      "execution_count": 11,
      "outputs": [
        {
          "output_type": "execute_result",
          "data": {
            "text/plain": [
              "         Date       Open       High        Low      Close  Adj Close    Volume\n",
              "0  2015-01-02  26.378078  26.490770  26.133251  26.168653  26.168653  28951268\n",
              "1  2015-01-05  26.091366  26.144720  25.582764  25.623152  25.623152  41196796\n",
              "2  2015-01-06  25.679497  25.738087  24.983908  25.029282  25.029282  57998800\n",
              "3  2015-01-07  25.280592  25.292759  24.914099  24.986401  24.986401  41301082\n",
              "4  2015-01-08  24.831326  25.105074  24.482782  25.065184  25.065184  67071641"
            ],
            "text/html": [
              "\n",
              "  <div id=\"df-718e1b37-05a1-43aa-872a-03e4ed7e3e0b\">\n",
              "    <div class=\"colab-df-container\">\n",
              "      <div>\n",
              "<style scoped>\n",
              "    .dataframe tbody tr th:only-of-type {\n",
              "        vertical-align: middle;\n",
              "    }\n",
              "\n",
              "    .dataframe tbody tr th {\n",
              "        vertical-align: top;\n",
              "    }\n",
              "\n",
              "    .dataframe thead th {\n",
              "        text-align: right;\n",
              "    }\n",
              "</style>\n",
              "<table border=\"1\" class=\"dataframe\">\n",
              "  <thead>\n",
              "    <tr style=\"text-align: right;\">\n",
              "      <th></th>\n",
              "      <th>Date</th>\n",
              "      <th>Open</th>\n",
              "      <th>High</th>\n",
              "      <th>Low</th>\n",
              "      <th>Close</th>\n",
              "      <th>Adj Close</th>\n",
              "      <th>Volume</th>\n",
              "    </tr>\n",
              "  </thead>\n",
              "  <tbody>\n",
              "    <tr>\n",
              "      <th>0</th>\n",
              "      <td>2015-01-02</td>\n",
              "      <td>26.378078</td>\n",
              "      <td>26.490770</td>\n",
              "      <td>26.133251</td>\n",
              "      <td>26.168653</td>\n",
              "      <td>26.168653</td>\n",
              "      <td>28951268</td>\n",
              "    </tr>\n",
              "    <tr>\n",
              "      <th>1</th>\n",
              "      <td>2015-01-05</td>\n",
              "      <td>26.091366</td>\n",
              "      <td>26.144720</td>\n",
              "      <td>25.582764</td>\n",
              "      <td>25.623152</td>\n",
              "      <td>25.623152</td>\n",
              "      <td>41196796</td>\n",
              "    </tr>\n",
              "    <tr>\n",
              "      <th>2</th>\n",
              "      <td>2015-01-06</td>\n",
              "      <td>25.679497</td>\n",
              "      <td>25.738087</td>\n",
              "      <td>24.983908</td>\n",
              "      <td>25.029282</td>\n",
              "      <td>25.029282</td>\n",
              "      <td>57998800</td>\n",
              "    </tr>\n",
              "    <tr>\n",
              "      <th>3</th>\n",
              "      <td>2015-01-07</td>\n",
              "      <td>25.280592</td>\n",
              "      <td>25.292759</td>\n",
              "      <td>24.914099</td>\n",
              "      <td>24.986401</td>\n",
              "      <td>24.986401</td>\n",
              "      <td>41301082</td>\n",
              "    </tr>\n",
              "    <tr>\n",
              "      <th>4</th>\n",
              "      <td>2015-01-08</td>\n",
              "      <td>24.831326</td>\n",
              "      <td>25.105074</td>\n",
              "      <td>24.482782</td>\n",
              "      <td>25.065184</td>\n",
              "      <td>25.065184</td>\n",
              "      <td>67071641</td>\n",
              "    </tr>\n",
              "  </tbody>\n",
              "</table>\n",
              "</div>\n",
              "      <button class=\"colab-df-convert\" onclick=\"convertToInteractive('df-718e1b37-05a1-43aa-872a-03e4ed7e3e0b')\"\n",
              "              title=\"Convert this dataframe to an interactive table.\"\n",
              "              style=\"display:none;\">\n",
              "        \n",
              "  <svg xmlns=\"http://www.w3.org/2000/svg\" height=\"24px\"viewBox=\"0 0 24 24\"\n",
              "       width=\"24px\">\n",
              "    <path d=\"M0 0h24v24H0V0z\" fill=\"none\"/>\n",
              "    <path d=\"M18.56 5.44l.94 2.06.94-2.06 2.06-.94-2.06-.94-.94-2.06-.94 2.06-2.06.94zm-11 1L8.5 8.5l.94-2.06 2.06-.94-2.06-.94L8.5 2.5l-.94 2.06-2.06.94zm10 10l.94 2.06.94-2.06 2.06-.94-2.06-.94-.94-2.06-.94 2.06-2.06.94z\"/><path d=\"M17.41 7.96l-1.37-1.37c-.4-.4-.92-.59-1.43-.59-.52 0-1.04.2-1.43.59L10.3 9.45l-7.72 7.72c-.78.78-.78 2.05 0 2.83L4 21.41c.39.39.9.59 1.41.59.51 0 1.02-.2 1.41-.59l7.78-7.78 2.81-2.81c.8-.78.8-2.07 0-2.86zM5.41 20L4 18.59l7.72-7.72 1.47 1.35L5.41 20z\"/>\n",
              "  </svg>\n",
              "      </button>\n",
              "      \n",
              "  <style>\n",
              "    .colab-df-container {\n",
              "      display:flex;\n",
              "      flex-wrap:wrap;\n",
              "      gap: 12px;\n",
              "    }\n",
              "\n",
              "    .colab-df-convert {\n",
              "      background-color: #E8F0FE;\n",
              "      border: none;\n",
              "      border-radius: 50%;\n",
              "      cursor: pointer;\n",
              "      display: none;\n",
              "      fill: #1967D2;\n",
              "      height: 32px;\n",
              "      padding: 0 0 0 0;\n",
              "      width: 32px;\n",
              "    }\n",
              "\n",
              "    .colab-df-convert:hover {\n",
              "      background-color: #E2EBFA;\n",
              "      box-shadow: 0px 1px 2px rgba(60, 64, 67, 0.3), 0px 1px 3px 1px rgba(60, 64, 67, 0.15);\n",
              "      fill: #174EA6;\n",
              "    }\n",
              "\n",
              "    [theme=dark] .colab-df-convert {\n",
              "      background-color: #3B4455;\n",
              "      fill: #D2E3FC;\n",
              "    }\n",
              "\n",
              "    [theme=dark] .colab-df-convert:hover {\n",
              "      background-color: #434B5C;\n",
              "      box-shadow: 0px 1px 3px 1px rgba(0, 0, 0, 0.15);\n",
              "      filter: drop-shadow(0px 1px 2px rgba(0, 0, 0, 0.3));\n",
              "      fill: #FFFFFF;\n",
              "    }\n",
              "  </style>\n",
              "\n",
              "      <script>\n",
              "        const buttonEl =\n",
              "          document.querySelector('#df-718e1b37-05a1-43aa-872a-03e4ed7e3e0b button.colab-df-convert');\n",
              "        buttonEl.style.display =\n",
              "          google.colab.kernel.accessAllowed ? 'block' : 'none';\n",
              "\n",
              "        async function convertToInteractive(key) {\n",
              "          const element = document.querySelector('#df-718e1b37-05a1-43aa-872a-03e4ed7e3e0b');\n",
              "          const dataTable =\n",
              "            await google.colab.kernel.invokeFunction('convertToInteractive',\n",
              "                                                     [key], {});\n",
              "          if (!dataTable) return;\n",
              "\n",
              "          const docLinkHtml = 'Like what you see? Visit the ' +\n",
              "            '<a target=\"_blank\" href=https://colab.research.google.com/notebooks/data_table.ipynb>data table notebook</a>'\n",
              "            + ' to learn more about interactive tables.';\n",
              "          element.innerHTML = '';\n",
              "          dataTable['output_type'] = 'display_data';\n",
              "          await google.colab.output.renderOutput(dataTable, element);\n",
              "          const docLink = document.createElement('div');\n",
              "          docLink.innerHTML = docLinkHtml;\n",
              "          element.appendChild(docLink);\n",
              "        }\n",
              "      </script>\n",
              "    </div>\n",
              "  </div>\n",
              "  "
            ]
          },
          "metadata": {},
          "execution_count": 11
        }
      ]
    },
    {
      "cell_type": "code",
      "source": [
        "dataset.tail()"
      ],
      "metadata": {
        "colab": {
          "base_uri": "https://localhost:8080/",
          "height": 206
        },
        "id": "3R66e4OVcm9g",
        "outputId": "f3b08254-955d-47e8-af99-d287c675577d"
      },
      "execution_count": 10,
      "outputs": [
        {
          "output_type": "execute_result",
          "data": {
            "text/plain": [
              "            Date       Open       High        Low      Close  Adj Close  \\\n",
              "1505  2020-12-23  86.405502  87.399498  86.251999  86.619003  86.619003   \n",
              "1506  2020-12-24  86.750000  87.300003  86.455498  86.942497  86.942497   \n",
              "1507  2020-12-28  87.581749  89.536400  87.316750  88.804497  88.804497   \n",
              "1508  2020-12-29  89.389503  89.622002  87.804497  87.935997  87.935997   \n",
              "1509  2020-12-30  88.100502  88.254753  86.279999  86.975998  86.975998   \n",
              "\n",
              "        Volume  \n",
              "1505  20676000  \n",
              "1506   6936000  \n",
              "1507  27860000  \n",
              "1508  25988000  \n",
              "1509  26122000  "
            ],
            "text/html": [
              "\n",
              "  <div id=\"df-06a0dda7-2c03-4170-bb89-17e7245b2342\">\n",
              "    <div class=\"colab-df-container\">\n",
              "      <div>\n",
              "<style scoped>\n",
              "    .dataframe tbody tr th:only-of-type {\n",
              "        vertical-align: middle;\n",
              "    }\n",
              "\n",
              "    .dataframe tbody tr th {\n",
              "        vertical-align: top;\n",
              "    }\n",
              "\n",
              "    .dataframe thead th {\n",
              "        text-align: right;\n",
              "    }\n",
              "</style>\n",
              "<table border=\"1\" class=\"dataframe\">\n",
              "  <thead>\n",
              "    <tr style=\"text-align: right;\">\n",
              "      <th></th>\n",
              "      <th>Date</th>\n",
              "      <th>Open</th>\n",
              "      <th>High</th>\n",
              "      <th>Low</th>\n",
              "      <th>Close</th>\n",
              "      <th>Adj Close</th>\n",
              "      <th>Volume</th>\n",
              "    </tr>\n",
              "  </thead>\n",
              "  <tbody>\n",
              "    <tr>\n",
              "      <th>1505</th>\n",
              "      <td>2020-12-23</td>\n",
              "      <td>86.405502</td>\n",
              "      <td>87.399498</td>\n",
              "      <td>86.251999</td>\n",
              "      <td>86.619003</td>\n",
              "      <td>86.619003</td>\n",
              "      <td>20676000</td>\n",
              "    </tr>\n",
              "    <tr>\n",
              "      <th>1506</th>\n",
              "      <td>2020-12-24</td>\n",
              "      <td>86.750000</td>\n",
              "      <td>87.300003</td>\n",
              "      <td>86.455498</td>\n",
              "      <td>86.942497</td>\n",
              "      <td>86.942497</td>\n",
              "      <td>6936000</td>\n",
              "    </tr>\n",
              "    <tr>\n",
              "      <th>1507</th>\n",
              "      <td>2020-12-28</td>\n",
              "      <td>87.581749</td>\n",
              "      <td>89.536400</td>\n",
              "      <td>87.316750</td>\n",
              "      <td>88.804497</td>\n",
              "      <td>88.804497</td>\n",
              "      <td>27860000</td>\n",
              "    </tr>\n",
              "    <tr>\n",
              "      <th>1508</th>\n",
              "      <td>2020-12-29</td>\n",
              "      <td>89.389503</td>\n",
              "      <td>89.622002</td>\n",
              "      <td>87.804497</td>\n",
              "      <td>87.935997</td>\n",
              "      <td>87.935997</td>\n",
              "      <td>25988000</td>\n",
              "    </tr>\n",
              "    <tr>\n",
              "      <th>1509</th>\n",
              "      <td>2020-12-30</td>\n",
              "      <td>88.100502</td>\n",
              "      <td>88.254753</td>\n",
              "      <td>86.279999</td>\n",
              "      <td>86.975998</td>\n",
              "      <td>86.975998</td>\n",
              "      <td>26122000</td>\n",
              "    </tr>\n",
              "  </tbody>\n",
              "</table>\n",
              "</div>\n",
              "      <button class=\"colab-df-convert\" onclick=\"convertToInteractive('df-06a0dda7-2c03-4170-bb89-17e7245b2342')\"\n",
              "              title=\"Convert this dataframe to an interactive table.\"\n",
              "              style=\"display:none;\">\n",
              "        \n",
              "  <svg xmlns=\"http://www.w3.org/2000/svg\" height=\"24px\"viewBox=\"0 0 24 24\"\n",
              "       width=\"24px\">\n",
              "    <path d=\"M0 0h24v24H0V0z\" fill=\"none\"/>\n",
              "    <path d=\"M18.56 5.44l.94 2.06.94-2.06 2.06-.94-2.06-.94-.94-2.06-.94 2.06-2.06.94zm-11 1L8.5 8.5l.94-2.06 2.06-.94-2.06-.94L8.5 2.5l-.94 2.06-2.06.94zm10 10l.94 2.06.94-2.06 2.06-.94-2.06-.94-.94-2.06-.94 2.06-2.06.94z\"/><path d=\"M17.41 7.96l-1.37-1.37c-.4-.4-.92-.59-1.43-.59-.52 0-1.04.2-1.43.59L10.3 9.45l-7.72 7.72c-.78.78-.78 2.05 0 2.83L4 21.41c.39.39.9.59 1.41.59.51 0 1.02-.2 1.41-.59l7.78-7.78 2.81-2.81c.8-.78.8-2.07 0-2.86zM5.41 20L4 18.59l7.72-7.72 1.47 1.35L5.41 20z\"/>\n",
              "  </svg>\n",
              "      </button>\n",
              "      \n",
              "  <style>\n",
              "    .colab-df-container {\n",
              "      display:flex;\n",
              "      flex-wrap:wrap;\n",
              "      gap: 12px;\n",
              "    }\n",
              "\n",
              "    .colab-df-convert {\n",
              "      background-color: #E8F0FE;\n",
              "      border: none;\n",
              "      border-radius: 50%;\n",
              "      cursor: pointer;\n",
              "      display: none;\n",
              "      fill: #1967D2;\n",
              "      height: 32px;\n",
              "      padding: 0 0 0 0;\n",
              "      width: 32px;\n",
              "    }\n",
              "\n",
              "    .colab-df-convert:hover {\n",
              "      background-color: #E2EBFA;\n",
              "      box-shadow: 0px 1px 2px rgba(60, 64, 67, 0.3), 0px 1px 3px 1px rgba(60, 64, 67, 0.15);\n",
              "      fill: #174EA6;\n",
              "    }\n",
              "\n",
              "    [theme=dark] .colab-df-convert {\n",
              "      background-color: #3B4455;\n",
              "      fill: #D2E3FC;\n",
              "    }\n",
              "\n",
              "    [theme=dark] .colab-df-convert:hover {\n",
              "      background-color: #434B5C;\n",
              "      box-shadow: 0px 1px 3px 1px rgba(0, 0, 0, 0.15);\n",
              "      filter: drop-shadow(0px 1px 2px rgba(0, 0, 0, 0.3));\n",
              "      fill: #FFFFFF;\n",
              "    }\n",
              "  </style>\n",
              "\n",
              "      <script>\n",
              "        const buttonEl =\n",
              "          document.querySelector('#df-06a0dda7-2c03-4170-bb89-17e7245b2342 button.colab-df-convert');\n",
              "        buttonEl.style.display =\n",
              "          google.colab.kernel.accessAllowed ? 'block' : 'none';\n",
              "\n",
              "        async function convertToInteractive(key) {\n",
              "          const element = document.querySelector('#df-06a0dda7-2c03-4170-bb89-17e7245b2342');\n",
              "          const dataTable =\n",
              "            await google.colab.kernel.invokeFunction('convertToInteractive',\n",
              "                                                     [key], {});\n",
              "          if (!dataTable) return;\n",
              "\n",
              "          const docLinkHtml = 'Like what you see? Visit the ' +\n",
              "            '<a target=\"_blank\" href=https://colab.research.google.com/notebooks/data_table.ipynb>data table notebook</a>'\n",
              "            + ' to learn more about interactive tables.';\n",
              "          element.innerHTML = '';\n",
              "          dataTable['output_type'] = 'display_data';\n",
              "          await google.colab.output.renderOutput(dataTable, element);\n",
              "          const docLink = document.createElement('div');\n",
              "          docLink.innerHTML = docLinkHtml;\n",
              "          element.appendChild(docLink);\n",
              "        }\n",
              "      </script>\n",
              "    </div>\n",
              "  </div>\n",
              "  "
            ]
          },
          "metadata": {},
          "execution_count": 10
        }
      ]
    },
    {
      "cell_type": "code",
      "source": [
        "dataset.info()"
      ],
      "metadata": {
        "colab": {
          "base_uri": "https://localhost:8080/"
        },
        "id": "dN59cgHwcsFQ",
        "outputId": "f302d3aa-4788-4b7a-d7ca-4d33d024f1a6"
      },
      "execution_count": 12,
      "outputs": [
        {
          "output_type": "stream",
          "name": "stdout",
          "text": [
            "<class 'pandas.core.frame.DataFrame'>\n",
            "RangeIndex: 1510 entries, 0 to 1509\n",
            "Data columns (total 7 columns):\n",
            " #   Column     Non-Null Count  Dtype  \n",
            "---  ------     --------------  -----  \n",
            " 0   Date       1510 non-null   object \n",
            " 1   Open       1510 non-null   float64\n",
            " 2   High       1510 non-null   float64\n",
            " 3   Low        1510 non-null   float64\n",
            " 4   Close      1510 non-null   float64\n",
            " 5   Adj Close  1510 non-null   float64\n",
            " 6   Volume     1510 non-null   int64  \n",
            "dtypes: float64(5), int64(1), object(1)\n",
            "memory usage: 82.7+ KB\n"
          ]
        }
      ]
    },
    {
      "cell_type": "code",
      "source": [
        "training_set = dataset.iloc[:, 1:2].values"
      ],
      "metadata": {
        "id": "Y6HAPHxVcvYB"
      },
      "execution_count": 13,
      "outputs": []
    },
    {
      "cell_type": "code",
      "source": [
        "training_set"
      ],
      "metadata": {
        "colab": {
          "base_uri": "https://localhost:8080/"
        },
        "id": "P7R-kGj0c0qx",
        "outputId": "49cb0202-d4cf-4b2e-a61e-38dc850c1fdc"
      },
      "execution_count": 14,
      "outputs": [
        {
          "output_type": "execute_result",
          "data": {
            "text/plain": [
              "array([[26.378078],\n",
              "       [26.091366],\n",
              "       [25.679497],\n",
              "       ...,\n",
              "       [87.581749],\n",
              "       [89.389503],\n",
              "       [88.100502]])"
            ]
          },
          "metadata": {},
          "execution_count": 14
        }
      ]
    },
    {
      "cell_type": "code",
      "source": [
        "# Feature Scaling\n",
        "sc = MinMaxScaler(feature_range = (0, 1))\n",
        "training_set_scaled = sc.fit_transform(training_set)"
      ],
      "metadata": {
        "id": "JcTTpjPTc1AK"
      },
      "execution_count": 15,
      "outputs": []
    },
    {
      "cell_type": "code",
      "source": [
        "# Create a data structure with 60 timesteps and 1 output\n",
        "X_train = []\n",
        "y_train = []\n",
        "for i in range(60, len(training_set)):\n",
        "    X_train.append(training_set_scaled[i-60:i, 0])\n",
        "    y_train.append(training_set_scaled[i, 0])\n",
        "X_train, y_train = np.array(X_train), np.array(y_train)"
      ],
      "metadata": {
        "id": "ahd_l5RRc3M-"
      },
      "execution_count": 16,
      "outputs": []
    },
    {
      "cell_type": "code",
      "source": [
        "# Reshape the data for LSTM input\n",
        "X_train = np.reshape(X_train, (X_train.shape[0], X_train.shape[1], 1))"
      ],
      "metadata": {
        "id": "e45xmMGqc3VU"
      },
      "execution_count": 17,
      "outputs": []
    },
    {
      "cell_type": "markdown",
      "source": [
        "# Step 3: Building LSTM"
      ],
      "metadata": {
        "id": "ddmgrku_c_LQ"
      }
    },
    {
      "cell_type": "code",
      "source": [
        "# Build the LSTM model\n",
        "regressor = Sequential()\n",
        "\n",
        "regressor.add(LSTM(units = 50, return_sequences = True, input_shape = (X_train.shape[1], 1)))\n",
        "regressor.add(Dropout(0.2))\n",
        "\n",
        "regressor.add(LSTM(units = 50, return_sequences = True))\n",
        "regressor.add(Dropout(0.2))\n",
        "\n",
        "regressor.add(LSTM(units = 50, return_sequences = True))\n",
        "regressor.add(Dropout(0.2))\n",
        "\n",
        "regressor.add(LSTM(units = 50))\n",
        "regressor.add(Dropout(0.2))\n",
        "\n",
        "regressor.add(Dense(units = 1))"
      ],
      "metadata": {
        "id": "teojZ1BIdDN4"
      },
      "execution_count": 18,
      "outputs": []
    },
    {
      "cell_type": "code",
      "source": [
        "regressor.compile(optimizer = 'adam', loss = 'mean_squared_error')"
      ],
      "metadata": {
        "id": "YQba3CNzc3er"
      },
      "execution_count": 19,
      "outputs": []
    },
    {
      "cell_type": "markdown",
      "source": [
        "# Step 4: Training the model"
      ],
      "metadata": {
        "id": "wkA4Hf7HdNcP"
      }
    },
    {
      "cell_type": "code",
      "source": [
        "# Train the LSTM model\n",
        "regressor.fit(X_train, y_train, epochs = 100, batch_size = 32)"
      ],
      "metadata": {
        "colab": {
          "base_uri": "https://localhost:8080/"
        },
        "id": "J5dgBAkfdPuS",
        "outputId": "e9496497-68ad-4289-9dcb-3ff02b62896b"
      },
      "execution_count": 20,
      "outputs": [
        {
          "output_type": "stream",
          "name": "stdout",
          "text": [
            "Epoch 1/100\n",
            "46/46 [==============================] - 19s 167ms/step - loss: 0.0198\n",
            "Epoch 2/100\n",
            "46/46 [==============================] - 7s 152ms/step - loss: 0.0042\n",
            "Epoch 3/100\n",
            "46/46 [==============================] - 9s 200ms/step - loss: 0.0046\n",
            "Epoch 4/100\n",
            "46/46 [==============================] - 7s 142ms/step - loss: 0.0044\n",
            "Epoch 5/100\n",
            "46/46 [==============================] - 8s 168ms/step - loss: 0.0037\n",
            "Epoch 6/100\n",
            "46/46 [==============================] - 6s 132ms/step - loss: 0.0039\n",
            "Epoch 7/100\n",
            "46/46 [==============================] - 8s 169ms/step - loss: 0.0047\n",
            "Epoch 8/100\n",
            "46/46 [==============================] - 6s 130ms/step - loss: 0.0030\n",
            "Epoch 9/100\n",
            "46/46 [==============================] - 8s 169ms/step - loss: 0.0031\n",
            "Epoch 10/100\n",
            "46/46 [==============================] - 7s 149ms/step - loss: 0.0032\n",
            "Epoch 11/100\n",
            "46/46 [==============================] - 8s 169ms/step - loss: 0.0028\n",
            "Epoch 12/100\n",
            "46/46 [==============================] - 6s 131ms/step - loss: 0.0030\n",
            "Epoch 13/100\n",
            "46/46 [==============================] - 8s 168ms/step - loss: 0.0032\n",
            "Epoch 14/100\n",
            "46/46 [==============================] - 6s 130ms/step - loss: 0.0034\n",
            "Epoch 15/100\n",
            "46/46 [==============================] - 8s 169ms/step - loss: 0.0030\n",
            "Epoch 16/100\n",
            "46/46 [==============================] - 6s 130ms/step - loss: 0.0026\n",
            "Epoch 17/100\n",
            "46/46 [==============================] - 8s 168ms/step - loss: 0.0026\n",
            "Epoch 18/100\n",
            "46/46 [==============================] - 6s 131ms/step - loss: 0.0025\n",
            "Epoch 19/100\n",
            "46/46 [==============================] - 8s 167ms/step - loss: 0.0024\n",
            "Epoch 20/100\n",
            "46/46 [==============================] - 6s 129ms/step - loss: 0.0021\n",
            "Epoch 21/100\n",
            "46/46 [==============================] - 7s 158ms/step - loss: 0.0020\n",
            "Epoch 22/100\n",
            "46/46 [==============================] - 6s 137ms/step - loss: 0.0021\n",
            "Epoch 23/100\n",
            "46/46 [==============================] - 7s 150ms/step - loss: 0.0020\n",
            "Epoch 24/100\n",
            "46/46 [==============================] - 7s 147ms/step - loss: 0.0021\n",
            "Epoch 25/100\n",
            "46/46 [==============================] - 6s 140ms/step - loss: 0.0019\n",
            "Epoch 26/100\n",
            "46/46 [==============================] - 7s 154ms/step - loss: 0.0019\n",
            "Epoch 27/100\n",
            "46/46 [==============================] - 6s 134ms/step - loss: 0.0019\n",
            "Epoch 28/100\n",
            "46/46 [==============================] - 7s 162ms/step - loss: 0.0021\n",
            "Epoch 29/100\n",
            "46/46 [==============================] - 6s 130ms/step - loss: 0.0019\n",
            "Epoch 30/100\n",
            "46/46 [==============================] - 8s 167ms/step - loss: 0.0019\n",
            "Epoch 31/100\n",
            "46/46 [==============================] - 6s 130ms/step - loss: 0.0019\n",
            "Epoch 32/100\n",
            "46/46 [==============================] - 8s 168ms/step - loss: 0.0017\n",
            "Epoch 33/100\n",
            "46/46 [==============================] - 6s 130ms/step - loss: 0.0018\n",
            "Epoch 34/100\n",
            "46/46 [==============================] - 8s 167ms/step - loss: 0.0017\n",
            "Epoch 35/100\n",
            "46/46 [==============================] - 6s 131ms/step - loss: 0.0015\n",
            "Epoch 36/100\n",
            "46/46 [==============================] - 8s 167ms/step - loss: 0.0015\n",
            "Epoch 37/100\n",
            "46/46 [==============================] - 6s 130ms/step - loss: 0.0017\n",
            "Epoch 38/100\n",
            "46/46 [==============================] - 8s 168ms/step - loss: 0.0016\n",
            "Epoch 39/100\n",
            "46/46 [==============================] - 6s 130ms/step - loss: 0.0017\n",
            "Epoch 40/100\n",
            "46/46 [==============================] - 8s 168ms/step - loss: 0.0017\n",
            "Epoch 41/100\n",
            "46/46 [==============================] - 6s 131ms/step - loss: 0.0016\n",
            "Epoch 42/100\n",
            "46/46 [==============================] - 8s 167ms/step - loss: 0.0015\n",
            "Epoch 43/100\n",
            "46/46 [==============================] - 6s 130ms/step - loss: 0.0017\n",
            "Epoch 44/100\n",
            "46/46 [==============================] - 7s 157ms/step - loss: 0.0014\n",
            "Epoch 45/100\n",
            "46/46 [==============================] - 6s 138ms/step - loss: 0.0014\n",
            "Epoch 46/100\n",
            "46/46 [==============================] - 7s 150ms/step - loss: 0.0014\n",
            "Epoch 47/100\n",
            "46/46 [==============================] - 7s 145ms/step - loss: 0.0014\n",
            "Epoch 48/100\n",
            "46/46 [==============================] - 6s 141ms/step - loss: 0.0014\n",
            "Epoch 49/100\n",
            "46/46 [==============================] - 7s 154ms/step - loss: 0.0015\n",
            "Epoch 50/100\n",
            "46/46 [==============================] - 6s 136ms/step - loss: 0.0015\n",
            "Epoch 51/100\n",
            "46/46 [==============================] - 7s 161ms/step - loss: 0.0019\n",
            "Epoch 52/100\n",
            "46/46 [==============================] - 6s 130ms/step - loss: 0.0014\n",
            "Epoch 53/100\n",
            "46/46 [==============================] - 8s 168ms/step - loss: 0.0015\n",
            "Epoch 54/100\n",
            "46/46 [==============================] - 6s 131ms/step - loss: 0.0012\n",
            "Epoch 55/100\n",
            "46/46 [==============================] - 8s 168ms/step - loss: 0.0013\n",
            "Epoch 56/100\n",
            "46/46 [==============================] - 6s 129ms/step - loss: 0.0014\n",
            "Epoch 57/100\n",
            "46/46 [==============================] - 8s 167ms/step - loss: 0.0013\n",
            "Epoch 58/100\n",
            "46/46 [==============================] - 6s 129ms/step - loss: 0.0013\n",
            "Epoch 59/100\n",
            "46/46 [==============================] - 8s 168ms/step - loss: 0.0012\n",
            "Epoch 60/100\n",
            "46/46 [==============================] - 6s 130ms/step - loss: 0.0012\n",
            "Epoch 61/100\n",
            "46/46 [==============================] - 8s 168ms/step - loss: 0.0014\n",
            "Epoch 62/100\n",
            "46/46 [==============================] - 6s 130ms/step - loss: 0.0011\n",
            "Epoch 63/100\n",
            "46/46 [==============================] - 8s 168ms/step - loss: 0.0012\n",
            "Epoch 64/100\n",
            "46/46 [==============================] - 6s 130ms/step - loss: 0.0012\n",
            "Epoch 65/100\n",
            "46/46 [==============================] - 8s 164ms/step - loss: 0.0011\n",
            "Epoch 66/100\n",
            "46/46 [==============================] - 6s 132ms/step - loss: 0.0013\n",
            "Epoch 67/100\n",
            "46/46 [==============================] - 7s 155ms/step - loss: 0.0011\n",
            "Epoch 68/100\n",
            "46/46 [==============================] - 7s 140ms/step - loss: 0.0012\n",
            "Epoch 69/100\n",
            "46/46 [==============================] - 7s 148ms/step - loss: 0.0011\n",
            "Epoch 70/100\n",
            "46/46 [==============================] - 7s 150ms/step - loss: 0.0012\n",
            "Epoch 71/100\n",
            "46/46 [==============================] - 6s 141ms/step - loss: 0.0011\n",
            "Epoch 72/100\n",
            "46/46 [==============================] - 7s 154ms/step - loss: 0.0011\n",
            "Epoch 73/100\n",
            "46/46 [==============================] - 6s 133ms/step - loss: 0.0011\n",
            "Epoch 74/100\n",
            "46/46 [==============================] - 8s 162ms/step - loss: 0.0010\n",
            "Epoch 75/100\n",
            "46/46 [==============================] - 6s 130ms/step - loss: 0.0011\n",
            "Epoch 76/100\n",
            "46/46 [==============================] - 8s 169ms/step - loss: 0.0010\n",
            "Epoch 77/100\n",
            "46/46 [==============================] - 6s 130ms/step - loss: 0.0012\n",
            "Epoch 78/100\n",
            "46/46 [==============================] - 8s 167ms/step - loss: 0.0011\n",
            "Epoch 79/100\n",
            "46/46 [==============================] - 6s 131ms/step - loss: 9.8517e-04\n",
            "Epoch 80/100\n",
            "46/46 [==============================] - 8s 168ms/step - loss: 0.0012\n",
            "Epoch 81/100\n",
            "46/46 [==============================] - 6s 131ms/step - loss: 0.0010\n",
            "Epoch 82/100\n",
            "46/46 [==============================] - 8s 168ms/step - loss: 0.0010\n",
            "Epoch 83/100\n",
            "46/46 [==============================] - 6s 132ms/step - loss: 0.0010\n",
            "Epoch 84/100\n",
            "46/46 [==============================] - 8s 167ms/step - loss: 0.0010\n",
            "Epoch 85/100\n",
            "46/46 [==============================] - 6s 131ms/step - loss: 9.1768e-04\n",
            "Epoch 86/100\n",
            "46/46 [==============================] - 8s 168ms/step - loss: 9.2874e-04\n",
            "Epoch 87/100\n",
            "46/46 [==============================] - 6s 131ms/step - loss: 0.0011\n",
            "Epoch 88/100\n",
            "46/46 [==============================] - 8s 168ms/step - loss: 9.3348e-04\n",
            "Epoch 89/100\n",
            "46/46 [==============================] - 6s 130ms/step - loss: 9.0299e-04\n",
            "Epoch 90/100\n",
            "46/46 [==============================] - 7s 161ms/step - loss: 9.0381e-04\n",
            "Epoch 91/100\n",
            "46/46 [==============================] - 6s 135ms/step - loss: 9.1604e-04\n",
            "Epoch 92/100\n",
            "46/46 [==============================] - 7s 152ms/step - loss: 9.3909e-04\n",
            "Epoch 93/100\n",
            "46/46 [==============================] - 7s 144ms/step - loss: 0.0010\n",
            "Epoch 94/100\n",
            "46/46 [==============================] - 7s 146ms/step - loss: 9.2399e-04\n",
            "Epoch 95/100\n",
            "46/46 [==============================] - 7s 151ms/step - loss: 9.2024e-04\n",
            "Epoch 96/100\n",
            "46/46 [==============================] - 6s 136ms/step - loss: 0.0010\n",
            "Epoch 97/100\n",
            "46/46 [==============================] - 7s 158ms/step - loss: 8.8212e-04\n",
            "Epoch 98/100\n",
            "46/46 [==============================] - 6s 130ms/step - loss: 9.2864e-04\n",
            "Epoch 99/100\n",
            "46/46 [==============================] - 8s 165ms/step - loss: 9.3620e-04\n",
            "Epoch 100/100\n",
            "46/46 [==============================] - 6s 129ms/step - loss: 9.4569e-04\n"
          ]
        },
        {
          "output_type": "execute_result",
          "data": {
            "text/plain": [
              "<keras.callbacks.History at 0x7f970dc124d0>"
            ]
          },
          "metadata": {},
          "execution_count": 20
        }
      ]
    },
    {
      "cell_type": "markdown",
      "source": [
        "# Step 5: Making Predictions"
      ],
      "metadata": {
        "id": "KWRw0hmJdZOT"
      }
    },
    {
      "cell_type": "code",
      "source": [
        "# Load the test data\n",
        "test_set = pd.read_csv('/content/Ftest.csv')"
      ],
      "metadata": {
        "id": "BUuD5smodbuu"
      },
      "execution_count": 21,
      "outputs": []
    },
    {
      "cell_type": "code",
      "source": [
        "test_set.shape"
      ],
      "metadata": {
        "colab": {
          "base_uri": "https://localhost:8080/"
        },
        "id": "059CklxydKRz",
        "outputId": "a11b5291-0338-4ea6-c33d-2b4410590637"
      },
      "execution_count": 22,
      "outputs": [
        {
          "output_type": "execute_result",
          "data": {
            "text/plain": [
              "(38, 7)"
            ]
          },
          "metadata": {},
          "execution_count": 22
        }
      ]
    },
    {
      "cell_type": "code",
      "source": [
        "test_set.info()"
      ],
      "metadata": {
        "colab": {
          "base_uri": "https://localhost:8080/"
        },
        "id": "FOEFXWEpdf4e",
        "outputId": "e77ac1e9-35cc-4552-e744-44d679bd79fa"
      },
      "execution_count": 23,
      "outputs": [
        {
          "output_type": "stream",
          "name": "stdout",
          "text": [
            "<class 'pandas.core.frame.DataFrame'>\n",
            "RangeIndex: 38 entries, 0 to 37\n",
            "Data columns (total 7 columns):\n",
            " #   Column     Non-Null Count  Dtype  \n",
            "---  ------     --------------  -----  \n",
            " 0   Date       38 non-null     object \n",
            " 1   Open       38 non-null     float64\n",
            " 2   High       38 non-null     float64\n",
            " 3   Low        38 non-null     float64\n",
            " 4   Close      38 non-null     float64\n",
            " 5   Adj Close  38 non-null     float64\n",
            " 6   Volume     38 non-null     int64  \n",
            "dtypes: float64(5), int64(1), object(1)\n",
            "memory usage: 2.2+ KB\n"
          ]
        }
      ]
    },
    {
      "cell_type": "code",
      "source": [
        "real_stock_price = test_set.iloc[:, 1:2].values"
      ],
      "metadata": {
        "id": "6Pqj6CX2dh-p"
      },
      "execution_count": 24,
      "outputs": []
    },
    {
      "cell_type": "code",
      "source": [
        "real_stock_price"
      ],
      "metadata": {
        "colab": {
          "base_uri": "https://localhost:8080/"
        },
        "id": "jMt74utydiEq",
        "outputId": "efd3e918-eecd-4f66-ba01-35e08adc9a17"
      },
      "execution_count": 25,
      "outputs": [
        {
          "output_type": "execute_result",
          "data": {
            "text/plain": [
              "array([[ 87.876999],\n",
              "       [ 86.25    ],\n",
              "       [ 85.1315  ],\n",
              "       [ 87.002998],\n",
              "       [ 89.399002],\n",
              "       [ 89.303497],\n",
              "       [ 87.695999],\n",
              "       [ 86.929001],\n",
              "       [ 87.681   ],\n",
              "       [ 86.9095  ],\n",
              "       [ 87.612503],\n",
              "       [ 91.572998],\n",
              "       [ 94.900002],\n",
              "       [ 94.783997],\n",
              "       [ 96.033501],\n",
              "       [ 94.442001],\n",
              "       [ 94.126503],\n",
              "       [ 92.196999],\n",
              "       [ 92.308502],\n",
              "       [ 92.678497],\n",
              "       [ 96.127998],\n",
              "       [103.650002],\n",
              "       [103.444504],\n",
              "       [103.5     ],\n",
              "       [105.295502],\n",
              "       [103.927002],\n",
              "       [104.710503],\n",
              "       [104.975502],\n",
              "       [104.512497],\n",
              "       [105.218002],\n",
              "       [105.      ],\n",
              "       [105.519501],\n",
              "       [105.963501],\n",
              "       [103.349998],\n",
              "       [101.250504],\n",
              "       [102.091499],\n",
              "       [103.372498],\n",
              "       [102.526001]])"
            ]
          },
          "metadata": {},
          "execution_count": 25
        }
      ]
    },
    {
      "cell_type": "code",
      "source": [
        "real_stock_price.shape"
      ],
      "metadata": {
        "colab": {
          "base_uri": "https://localhost:8080/"
        },
        "id": "tW_6dRp2diLr",
        "outputId": "a7754bfe-0118-4a34-e225-a36888922734"
      },
      "execution_count": 26,
      "outputs": [
        {
          "output_type": "execute_result",
          "data": {
            "text/plain": [
              "(38, 1)"
            ]
          },
          "metadata": {},
          "execution_count": 26
        }
      ]
    },
    {
      "cell_type": "code",
      "source": [
        "# Predict the test data\n",
        "dataset_total = pd.concat((dataset['Open'], test_set['Open']), axis = 0)\n",
        "inputs = dataset_total[len(dataset_total) - len(test_set) - 60:].values\n",
        "inputs = inputs.reshape(-1,1)\n",
        "inputs = sc.transform(inputs)"
      ],
      "metadata": {
        "id": "2_bSZreOdt0c"
      },
      "execution_count": 27,
      "outputs": []
    },
    {
      "cell_type": "code",
      "source": [
        "# creating a testset\n",
        "X_test = []\n",
        "for i in range(len(training_set) - 60, len(training_set)):\n",
        "    X_test.append(training_set_scaled[i-60:i, 0])\n",
        "X_test = np.array(X_test)\n",
        "X_test = np.reshape(X_test, (X_test.shape[0], X_test.shape[1], 1))"
      ],
      "metadata": {
        "id": "8uOqkl2-dt7N"
      },
      "execution_count": 28,
      "outputs": []
    },
    {
      "cell_type": "code",
      "source": [
        "#getting predicted stock prices\n",
        "predicted_stock_price = regressor.predict(X_test)\n",
        "predicted_stock_price = sc.inverse_transform(predicted_stock_price)"
      ],
      "metadata": {
        "colab": {
          "base_uri": "https://localhost:8080/"
        },
        "id": "9zBGzEy5duD_",
        "outputId": "e2985a82-c71a-4ba5-f80d-651f22a73be3"
      },
      "execution_count": 29,
      "outputs": [
        {
          "output_type": "stream",
          "name": "stdout",
          "text": [
            "2/2 [==============================] - 2s 47ms/step\n"
          ]
        }
      ]
    },
    {
      "cell_type": "code",
      "source": [
        "# Keep only the predicted prices for the test data\n",
        "predicted_stock_price = predicted_stock_price[-len(test_set):]"
      ],
      "metadata": {
        "id": "4lTjIaccd64h"
      },
      "execution_count": 30,
      "outputs": []
    },
    {
      "cell_type": "markdown",
      "source": [
        "# Step 6: Visualiztion"
      ],
      "metadata": {
        "id": "EwVsMoAOd-My"
      }
    },
    {
      "cell_type": "code",
      "source": [
        "# Visualize the results\n",
        "plt.plot(real_stock_price, color = 'red', label = 'Real Google Stock Price')\n",
        "plt.plot(predicted_stock_price, color = 'blue', label = 'Predicted Google Stock Price')\n",
        "plt.title('Google Stock Price Prediction')\n",
        "plt.xlabel('Time')\n",
        "plt.ylabel('Google Stock Price')\n",
        "plt.legend()\n",
        "plt.show()"
      ],
      "metadata": {
        "colab": {
          "base_uri": "https://localhost:8080/",
          "height": 472
        },
        "id": "lhjtJoTCeAMV",
        "outputId": "299e166d-8c2c-4f1e-ec88-89125cdfa509"
      },
      "execution_count": 31,
      "outputs": [
        {
          "output_type": "display_data",
          "data": {
            "text/plain": [
              "<Figure size 640x480 with 1 Axes>"
            ],
            "image/png": "[encoded data removed]"
          },
          "metadata": {}
        }
      ]
    },
    {
      "cell_type": "code",
      "source": [
        "import matplotlib as mpl\n",
        "COLOR = 'white'\n",
        "mpl.rcParams['text.color'] = COLOR\n",
        "mpl.rcParams['axes.labelcolor'] = COLOR\n",
        "mpl.rcParams['xtick.color'] = COLOR\n",
        "mpl.rcParams['ytick.color'] = COLOR\n",
        "mpl.rcParams['legend.frameon'] = 'False'\n",
        "fig = plt.figure()\n",
        "fig.patch.set_facecolor('xkcd:black')\n",
        "plt.plot(real_stock_price,color = 'red', label = 'Real Price')\n",
        "plt.plot(predicted_stock_price, color = 'blue', label = 'Predicted Price')\n",
        "ax = plt.gca()\n",
        "ax.set_facecolor('xkcd:black')\n",
        "plt.title('Google Stock Price Prediction')\n",
        "plt.xlabel('Time')\n",
        "plt.ylabel('Google Stock Price')\n",
        "plt.grid(True)\n",
        "plt.legend()\n",
        "plt.show()"
      ],
      "metadata": {
        "colab": {
          "base_uri": "https://localhost:8080/",
          "height": 472
        },
        "id": "hFnGdmbU4jD6",
        "outputId": "07c61c79-0b2b-4fed-f1b7-27c0e79baed9"
      },
      "execution_count": 33,
      "outputs": [
        {
          "output_type": "display_data",
          "data": {
            "text/plain": [
              "<Figure size 640x480 with 1 Axes>"
            ],
            "image/png": "[encoded data removed]"
          },
          "metadata": {}
        }
      ]
    },
    {
      "cell_type": "markdown",
      "source": [
        "# Step 7: RMSE accuracy"
      ],
      "metadata": {
        "id": "F3ritUh3eDTH"
      }
    },
    {
      "cell_type": "code",
      "source": [
        "from sklearn.metrics import mean_squared_error\n",
        "rmse = np.sqrt(mean_squared_error(real_stock_price, predicted_stock_price))\n",
        "accuracy = 100 - rmse\n",
        "print(\"Test score: %.2f RMSE\" % rmse)\n",
        "print(\"Accuracy: %.2f\" % accuracy)"
      ],
      "metadata": {
        "colab": {
          "base_uri": "https://localhost:8080/"
        },
        "id": "SVS0c0POeKMr",
        "outputId": "b252e1cc-441b-4044-9233-3efeaec20118"
      },
      "execution_count": 34,
      "outputs": [
        {
          "output_type": "stream",
          "name": "stdout",
          "text": [
            "Test score: 8.86 RMSE\n",
            "Accuracy: 91.14\n"
          ]
        }
      ]
    }
  ]
}